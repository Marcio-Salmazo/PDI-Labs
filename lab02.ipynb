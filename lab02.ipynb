{
 "cells": [
  {
   "cell_type": "code",
   "execution_count": 5,
   "metadata": {},
   "outputs": [],
   "source": [
    "import cv2 \n",
    "import matplotlib.pyplot as plt\n",
    "import numpy as np"
   ]
  },
  {
   "cell_type": "code",
   "execution_count": 6,
   "metadata": {},
   "outputs": [
    {
     "name": "stdout",
     "output_type": "stream",
     "text": [
      "linhas:  256\n",
      "colunas:  256\n",
      "Tamanho da imagem:  (256, 256)\n"
     ]
    }
   ],
   "source": [
    "# Leitura da imagem\n",
    "\n",
    "img = cv2.imread('art8.png', cv2.IMREAD_GRAYSCALE)\n",
    "linhas = img.shape[0]\n",
    "colunas = img.shape[1]\n",
    "print('linhas: ', linhas)\n",
    "print('colunas: ', colunas)\n",
    "print('Tamanho da imagem: ', img.shape)"
   ]
  },
  {
   "cell_type": "code",
   "execution_count": 7,
   "metadata": {},
   "outputs": [],
   "source": [
    "# Segmentação\n",
    "\n",
    "# O método threshold é usado para aplicar um \n",
    "# limite de nível fixo a uma imagem de entrada, \n",
    "# o que significa que ele converterá todos os valores de pixel \n",
    "# abaixo de um determinado valor limite para um valor \n",
    "# especificado e todos os valores de pixel acima desse \n",
    "# valor limite para outro valor especificado.\n",
    "\n",
    "ret, imgT = cv2.threshold(img, 127, 255, cv2.THRESH_BINARY)"
   ]
  },
  {
   "cell_type": "markdown",
   "metadata": {},
   "source": [
    "<p> Para a contagem dos objetos na imagem binária, basta aplicar \n",
    " uma busca em largura para pixels que possui o nível da cor escolhida. \n",
    " Caso os objetos sejam identificados pela cor branca, \n",
    " será aplicado a busca em largura apenas para esses pixels.\n",
    "\n",
    " Na busca em largura é selecionado um nó arbitrário e \n",
    " todos os nós vizinhos à ele são visitados primeiro \n",
    " antes de avançar para o próximo nível de vizinhos. </p>"
   ]
  },
  {
   "cell_type": "code",
   "execution_count": 8,
   "metadata": {},
   "outputs": [],
   "source": [
    "# A função de busca dos vizinhos de um nó encontra apensa os 4 pontos adjacentes a ele\n",
    "# Busca os pixels superior, inferior, à esqueda e à direita\n",
    "\n",
    "def vizinhos(img, x, y):\n",
    "    vizinhos = []\n",
    "    if (x+1 < linhas):\n",
    "        vizinhos.append((x+1, y))\n",
    "    if (x-1 >= 0):\n",
    "        vizinhos.append((x-1, y))\n",
    "    if (y+1 < colunas):\n",
    "        vizinhos.append((x, y+1))\n",
    "    if (y-1 >= 0):\n",
    "        vizinhos.append((x, y-1))\n",
    "    return vizinhos"
   ]
  },
  {
   "cell_type": "code",
   "execution_count": 9,
   "metadata": {},
   "outputs": [],
   "source": [
    "# Algoritimo da busca em largura inicialmente marca como visitado a coordenada do pixel escolhido \n",
    "# e verifica todos os vizinhos desse ponto, de modo que se o vizinho possuir um nível de cinza maior que zero \n",
    "# e não tiver sido visitado, pinte esse pixel e adicione em uma fila para que posteriormente \n",
    "# os vizinhos desse ponto sejam verificados.\n",
    "\n",
    "# Tem como argumentos a imagem, as coordenadaas do ponto atual e o valor do rótulo\n",
    "def busca_largura(img, ponto, rotulado):\n",
    "\n",
    "    x, y = ponto # Definição das coordenadas\n",
    "    img[x][y] = rotulado # Rotula o pixel atual\n",
    "    # Adição da coordenada à fila para posterior análise de seus vizinhos\n",
    "    fila = [ponto] \n",
    "\n",
    "    while fila:\n",
    "        x,y = fila.pop()\n",
    "        for vizinho in vizinhos(img, x, y): # Busca de todos os vizinhos adjacentes ao pixel atual\n",
    "            xv, yv = vizinho # Definição das coordenadas do pixel vizinho\n",
    "            cor = img[xv][yv] # Recebe o valor da cor(intensidade) do pixel vizinho\n",
    "            if(cor > 0 and cor != rotulado): # Se a cor for branca e não tiver sido rotulada:\n",
    "                img[xv][yv] = rotulado # O vizinho recebe a cor do rótulo\n",
    "                fila.append(vizinho) # Adiciona o pixel vizinho à fila"
   ]
  },
  {
   "cell_type": "code",
   "execution_count": 10,
   "metadata": {},
   "outputs": [],
   "source": [
    "#Implementação do contador, utilizando a busca em largura:\n",
    "\n",
    "# verifica cada pixel da imagem, de maneira que se a cor desse \n",
    "# pixel é branca e não tiver sido pintado (visitado/rotulado), \n",
    "# incrementa-se a quantidade de objetos, por meio da busca em largura\n",
    "# a partir das coordenadas do pixel encontrado e por fim, incrementa-se o \n",
    "# rotulo para que o próximo objeto tenha uma tonalidade diferente.\n",
    "\n",
    "def contador(img):\n",
    "    rotulado = 5 # Valor d intensidade do primeiro rótulo\n",
    "    objetos = 0 # Quantidade de objetos\n",
    "    for x in range(0, linhas):\n",
    "        for y in range(0, colunas):\n",
    "            \n",
    "            cor = img[x][y] # Pega a cor do pixel atual\n",
    "           \n",
    "            if cor == 255 and cor != rotulado: # Se a cor do pixel for branca e ainda não sido rotulada\n",
    "                objetos += 1 # Increment a contgem do objeto\n",
    "                busca_largura(img, (x,y), rotulado) # Implementa a busca em largura para este pixel\n",
    "                rotulado += 5 # Incrementa o valor do rótulo para gerar um novo rótulo\n",
    "   \n",
    "    print('Quantidade total de objetos: ', objetos)"
   ]
  },
  {
   "cell_type": "code",
   "execution_count": 11,
   "metadata": {},
   "outputs": [
    {
     "name": "stdout",
     "output_type": "stream",
     "text": [
      "Quantidade total de objetos:  9\n"
     ]
    }
   ],
   "source": [
    "# Chamada das funções\n",
    "\n",
    "contador(imgT)\n",
    "cv2.imshow('Imagem original', img)\n",
    "cv2.imshow('Imagem rotulada', imgT)\n",
    "cv2.waitKey()\n",
    "cv2.destroyAllWindows()\n",
    "\n"
   ]
  }
 ],
 "metadata": {
  "kernelspec": {
   "display_name": "Python 3",
   "language": "python",
   "name": "python3"
  },
  "language_info": {
   "codemirror_mode": {
    "name": "ipython",
    "version": 3
   },
   "file_extension": ".py",
   "mimetype": "text/x-python",
   "name": "python",
   "nbconvert_exporter": "python",
   "pygments_lexer": "ipython3",
   "version": "3.11.4"
  },
  "orig_nbformat": 4
 },
 "nbformat": 4,
 "nbformat_minor": 2
}
